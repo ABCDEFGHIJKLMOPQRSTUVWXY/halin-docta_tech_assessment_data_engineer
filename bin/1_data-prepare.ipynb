{
 "cells": [
  {
   "cell_type": "code",
   "execution_count": 2,
   "metadata": {},
   "outputs": [
    {
     "name": "stderr",
     "output_type": "stream",
     "text": [
      "c:\\Users\\Halin\\.conda\\envs\\datasets\\Lib\\site-packages\\tqdm\\auto.py:21: TqdmWarning: IProgress not found. Please update jupyter and ipywidgets. See https://ipywidgets.readthedocs.io/en/stable/user_install.html\n",
      "  from .autonotebook import tqdm as notebook_tqdm\n"
     ]
    }
   ],
   "source": [
    "import datasets"
   ]
  },
  {
   "cell_type": "code",
   "execution_count": 3,
   "metadata": {},
   "outputs": [],
   "source": [
    "#download the Headline subset of the AdaptLLM/Finance-tasks dataset\n",
    "# dataset = datasets.load_dataset(\"AdaptLLM/finance-tasks\", \"Headline\")\n",
    "#save to disk\n",
    "# dataset.save_to_disk(\"../data/finance-tasks\")"
   ]
  },
  {
   "cell_type": "code",
   "execution_count": 4,
   "metadata": {},
   "outputs": [],
   "source": [
    "#load dataset from disk\n",
    "raw_data = datasets.load_from_disk(\"../data/finance-tasks\")"
   ]
  },
  {
   "cell_type": "code",
   "execution_count": 5,
   "metadata": {},
   "outputs": [
    {
     "data": {
      "text/plain": [
       "DatasetDict({\n",
       "    test: Dataset({\n",
       "        features: ['options', 'id', 'input', 'class_id', 'gold_index'],\n",
       "        num_rows: 20547\n",
       "    })\n",
       "})"
      ]
     },
     "execution_count": 5,
     "metadata": {},
     "output_type": "execute_result"
    }
   ],
   "source": [
    "raw_data"
   ]
  },
  {
   "cell_type": "code",
   "execution_count": 6,
   "metadata": {},
   "outputs": [],
   "source": [
    "Fdataset = raw_data[\"test\"]\n",
    "head_dataset = Fdataset.select(range(10))\n",
    "shuffle_dataset = Fdataset.shuffle(seed=42).select(range(10))"
   ]
  },
  {
   "cell_type": "code",
   "execution_count": 7,
   "metadata": {},
   "outputs": [
    {
     "data": {
      "text/plain": [
       "Dataset({\n",
       "    features: ['options', 'id', 'input', 'class_id', 'gold_index'],\n",
       "    num_rows: 20547\n",
       "})"
      ]
     },
     "execution_count": 7,
     "metadata": {},
     "output_type": "execute_result"
    }
   ],
   "source": [
    "Fdataset"
   ]
  },
  {
   "cell_type": "code",
   "execution_count": 8,
   "metadata": {},
   "outputs": [],
   "source": [
    "id_group = Fdataset['id']\n",
    "text = Fdataset['input']"
   ]
  },
  {
   "cell_type": "code",
   "execution_count": 9,
   "metadata": {},
   "outputs": [],
   "source": [
    "#kmp\n",
    "def getNextVal(pattern):\n",
    "    n = len(pattern)\n",
    "    nextlist = [-1]\n",
    "    i = 0\n",
    "    j = -1\n",
    "    while i < n-1:\n",
    "        if j == -1 or pattern[i] == pattern[j]:\n",
    "            i += 1\n",
    "            j += 1\n",
    "            nextlist.append(j)\n",
    "            if pattern[i] == pattern[j]:\n",
    "                nextlist[i] = nextlist[j]\n",
    "        else:\n",
    "            j = nextlist[j]\n",
    "    return nextlist\n",
    "\n",
    "def KMP(target, pattern):\n",
    "    t_len = len(target)\n",
    "    p_len = len(pattern)\n",
    "    i = 0\n",
    "    j = 0\n",
    "    nextlist = getNextVal(pattern)\n",
    "    while i < t_len and j < p_len:\n",
    "        if j == -1 or target[i] == pattern[j]:\n",
    "            i += 1\n",
    "            j += 1\n",
    "        else:\n",
    "            j = nextlist[j]\n",
    "    if j == p_len:\n",
    "        return i-p_len\n",
    "    return -1"
   ]
  },
  {
   "cell_type": "code",
   "execution_count": 10,
   "metadata": {},
   "outputs": [
    {
     "data": {
      "text/plain": [
       "'Headline: \"Gold falls to Rs 30,800; silver down at Rs 41,200 per kg\" Now answer this question: Does the news headline talk about price in the past? Yes\\n\\nHeadline: \"gold futures add to gains after adp data\" Now answer this question: Does the news headline talk about price? Yes\\n\\nHeadline: \"Gold holds on to modest loss after data\" Now answer this question: Does the news headline talk about price in the future? No\\n\\nHeadline: \"spot gold quoted at $417.50, down 20c from new york\" Now answer this question: Does the news headline talk about a general event (apart from prices) in the past? No\\n\\nHeadline: \"gold hits new record high at $1,036.20 an ounce\" Now answer this question: Does the news headline compare gold with any other asset? No\\n\\nHeadline: \"gold may hit rs 31,500, but pullback rally may not sustain for long: experts\" Now answer this question: Does the news headline talk about price?'"
      ]
     },
     "execution_count": 10,
     "metadata": {},
     "output_type": "execute_result"
    }
   ],
   "source": [
    "text[0]"
   ]
  },
  {
   "cell_type": "code",
   "execution_count": 11,
   "metadata": {},
   "outputs": [],
   "source": [
    "#text\n",
    "key_text_headline = \"eadline: \"\n",
    "#quesion\n",
    "key_quesion_does = \"Does the\"\n",
    "key_quesion_first_mark = \"?\"\n",
    "#answer\n",
    "key_answer_1 = \"No or Yes? \"\n",
    "key_answer_2 = \"No\"\n",
    "key_answer_3 = \"Yes\"\n",
    "key_answer_4 = \"options\""
   ]
  },
  {
   "cell_type": "code",
   "execution_count": 12,
   "metadata": {},
   "outputs": [
    {
     "data": {
      "text/plain": [
       "10"
      ]
     },
     "execution_count": 12,
     "metadata": {},
     "output_type": "execute_result"
    }
   ],
   "source": [
    "headline_posion = KMP(text[0], \"eadline: \")+9\n",
    "headline_posion"
   ]
  },
  {
   "cell_type": "code",
   "execution_count": 13,
   "metadata": {},
   "outputs": [],
   "source": [
    "id = []\n",
    "id_text = []\n",
    "id_quesion = []\n",
    "id_answer = []\n"
   ]
  },
  {
   "cell_type": "code",
   "execution_count": 15,
   "metadata": {},
   "outputs": [
    {
     "name": "stdout",
     "output_type": "stream",
     "text": [
      "0\n",
      "Headline: \"Gold falls to Rs 30,800; silver down at Rs 41,200 per kg\" Now answer this question: \n",
      "Does the news headline talk about price in the past? Yes\n",
      "\n",
      "Headline: \"gold futures add to gains after adp data\" Now answer this question: Does the news headline talk about price? Yes\n",
      "\n",
      "Headline: \"Gold holds on to modest loss after data\" Now answer this question: Does the news headline talk about price in the future? No\n",
      "\n",
      "Headline: \"spot gold quoted at $417.50, down 20c from new york\" Now answer this question: Does the news headline talk about a general event (apart from prices) in the past? No\n",
      "\n",
      "Headline: \"gold hits new record high at $1,036.20 an ounce\" Now answer this question: Does the news headline compare gold with any other asset? No\n",
      "\n",
      "Headline: \"gold may hit rs 31,500, but pullback rally may not sustain for long: experts\" Now answer this question: Does the news headline talk about price?\n",
      "\n",
      "\n",
      "1\n",
      "Headline: \"Gold falls to Rs 30,800; silver down at Rs 41,200 per kg\" Now answer this question: \n",
      "Does the news headline talk about price in the past? Yes\n",
      "\n",
      "Headline: \"gold futures add to gains after adp data\" Now answer this question: Does the news headline talk about price? Yes\n",
      "\n",
      "Headline: \"Gold holds on to modest loss after data\" Now answer this question: Does the news headline talk about price in the future? No\n",
      "\n",
      "Headline: \"spot gold quoted at $417.50, down 20c from new york\" Now answer this question: Does the news headline talk about a general event (apart from prices) in the past? No\n",
      "\n",
      "Headline: \"gold hits new record high at $1,036.20 an ounce\" Now answer this question: Does the news headline compare gold with any other asset? No\n",
      "\n",
      "Headline: \"gold may hit rs 31,500, but pullback rally may not sustain for long: experts\" Now answer this question: Does the news headline talk about price?\n",
      "\n",
      "\n",
      "2\n",
      "Headline: \"Gold falls to Rs 30,800; silver down at Rs 41,200 per kg\" Now answer this question: \n",
      "Does the news headline talk about price in the past? Yes\n",
      "\n",
      "Headline: \"gold futures add to gains after adp data\" Now answer this question: Does the news headline talk about price? Yes\n",
      "\n",
      "Headline: \"Gold holds on to modest loss after data\" Now answer this question: Does the news headline talk about price in the future? No\n",
      "\n",
      "Headline: \"spot gold quoted at $417.50, down 20c from new york\" Now answer this question: Does the news headline talk about a general event (apart from prices) in the past? No\n",
      "\n",
      "Headline: \"gold hits new record high at $1,036.20 an ounce\" Now answer this question: Does the news headline compare gold with any other asset? No\n",
      "\n",
      "Headline: \"gold may hit rs 31,500, but pullback rally may not sustain for long: experts\" Now answer this question: Does the news headline talk about price?\n",
      "\n",
      "\n",
      "3\n",
      "Headline: \"Gold falls to Rs 30,800; silver down at Rs 41,200 per kg\" Now answer this question: \n",
      "Does the news headline talk about price in the past? Yes\n",
      "\n",
      "Headline: \"gold futures add to gains after adp data\" Now answer this question: Does the news headline talk about price? Yes\n",
      "\n",
      "Headline: \"Gold holds on to modest loss after data\" Now answer this question: Does the news headline talk about price in the future? No\n",
      "\n",
      "Headline: \"spot gold quoted at $417.50, down 20c from new york\" Now answer this question: Does the news headline talk about a general event (apart from prices) in the past? No\n",
      "\n",
      "Headline: \"gold hits new record high at $1,036.20 an ounce\" Now answer this question: Does the news headline compare gold with any other asset? No\n",
      "\n",
      "Headline: \"gold may hit rs 31,500, but pullback rally may not sustain for long: experts\" Now answer this question: Does the news headline talk about price?\n",
      "\n",
      "\n",
      "4\n",
      "Headline: \"Gold falls to Rs 30,800; silver down at Rs 41,200 per kg\" Now answer this question: \n",
      "Does the news headline talk about price in the past? Yes\n",
      "\n",
      "Headline: \"gold futures add to gains after adp data\" Now answer this question: Does the news headline talk about price? Yes\n",
      "\n",
      "Headline: \"Gold holds on to modest loss after data\" Now answer this question: Does the news headline talk about price in the future? No\n",
      "\n",
      "Headline: \"spot gold quoted at $417.50, down 20c from new york\" Now answer this question: Does the news headline talk about a general event (apart from prices) in the past? No\n",
      "\n",
      "Headline: \"gold hits new record high at $1,036.20 an ounce\" Now answer this question: Does the news headline compare gold with any other asset? No\n",
      "\n",
      "Headline: \"gold may hit rs 31,500, but pullback rally may not sustain for long: experts\" Now answer this question: Does the news headline talk about price?\n",
      "\n",
      "\n",
      "5\n",
      "Headline: \"Gold falls to Rs 30,800; silver down at Rs 41,200 per kg\" Now answer this question: \n",
      "Does the news headline talk about price in the past? Yes\n",
      "\n",
      "Headline: \"gold futures add to gains after adp data\" Now answer this question: Does the news headline talk about price? Yes\n",
      "\n",
      "Headline: \"Gold holds on to modest loss after data\" Now answer this question: Does the news headline talk about price in the future? No\n",
      "\n",
      "Headline: \"spot gold quoted at $417.50, down 20c from new york\" Now answer this question: Does the news headline talk about a general event (apart from prices) in the past? No\n",
      "\n",
      "Headline: \"gold hits new record high at $1,036.20 an ounce\" Now answer this question: Does the news headline compare gold with any other asset? No\n",
      "\n",
      "Headline: \"gold may hit rs 31,500, but pullback rally may not sustain for long: experts\" Now answer this question: Does the news headline talk about price?\n",
      "\n",
      "\n",
      "6\n",
      "Headline: \"Gold falls to Rs 30,800; silver down at Rs 41,200 per kg\" Now answer this question: \n",
      "Does the news headline talk about price in the past? Yes\n",
      "\n",
      "Headline: \"gold futures add to gains after adp data\" Now answer this question: Does the news headline talk about price? Yes\n",
      "\n",
      "Headline: \"Gold holds on to modest loss after data\" Now answer this question: Does the news headline talk about price in the future? No\n",
      "\n",
      "Headline: \"spot gold quoted at $417.50, down 20c from new york\" Now answer this question: Does the news headline talk about a general event (apart from prices) in the past? No\n",
      "\n",
      "Headline: \"gold hits new record high at $1,036.20 an ounce\" Now answer this question: Does the news headline compare gold with any other asset? No\n",
      "\n",
      "Headline: \"gold may hit rs 31,500, but pullback rally may not sustain for long: experts\" Now answer this question: Does the news headline talk about price?\n",
      "\n",
      "\n",
      "7\n",
      "Headline: \"Gold falls to Rs 30,800; silver down at Rs 41,200 per kg\" Now answer this question: \n",
      "Does the news headline talk about price in the past? Yes\n",
      "\n",
      "Headline: \"gold futures add to gains after adp data\" Now answer this question: Does the news headline talk about price? Yes\n",
      "\n",
      "Headline: \"Gold holds on to modest loss after data\" Now answer this question: Does the news headline talk about price in the future? No\n",
      "\n",
      "Headline: \"spot gold quoted at $417.50, down 20c from new york\" Now answer this question: Does the news headline talk about a general event (apart from prices) in the past? No\n",
      "\n",
      "Headline: \"gold hits new record high at $1,036.20 an ounce\" Now answer this question: Does the news headline compare gold with any other asset? No\n",
      "\n",
      "Headline: \"gold may hit rs 31,500, but pullback rally may not sustain for long: experts\" Now answer this question: Does the news headline talk about price?\n",
      "\n",
      "\n",
      "8\n",
      "Headline: \"Gold falls to Rs 30,800; silver down at Rs 41,200 per kg\" Now answer this question: \n",
      "Does the news headline talk about price in the past? Yes\n",
      "\n",
      "Headline: \"gold futures add to gains after adp data\" Now answer this question: Does the news headline talk about price? Yes\n",
      "\n",
      "Headline: \"Gold holds on to modest loss after data\" Now answer this question: Does the news headline talk about price in the future? No\n",
      "\n",
      "Headline: \"spot gold quoted at $417.50, down 20c from new york\" Now answer this question: Does the news headline talk about a general event (apart from prices) in the past? No\n",
      "\n",
      "Headline: \"gold hits new record high at $1,036.20 an ounce\" Now answer this question: Does the news headline compare gold with any other asset? No\n",
      "\n",
      "Headline: \"gold may hit rs 31,500, but pullback rally may not sustain for long: experts\" Now answer this question: Does the news headline talk about price?\n",
      "\n",
      "\n",
      "9\n",
      "Headline: \"Gold falls to Rs 30,800; silver down at Rs 41,200 per kg\" Now answer this question: \n",
      "Does the news headline talk about price in the past? Yes\n",
      "\n",
      "Headline: \"gold futures add to gains after adp data\" Now answer this question: Does the news headline talk about price? Yes\n",
      "\n",
      "Headline: \"Gold holds on to modest loss after data\" Now answer this question: Does the news headline talk about price in the future? No\n",
      "\n",
      "Headline: \"spot gold quoted at $417.50, down 20c from new york\" Now answer this question: Does the news headline talk about a general event (apart from prices) in the past? No\n",
      "\n",
      "Headline: \"gold hits new record high at $1,036.20 an ounce\" Now answer this question: Does the news headline compare gold with any other asset? No\n",
      "\n",
      "Headline: \"gold may hit rs 31,500, but pullback rally may not sustain for long: experts\" Now answer this question: Does the news headline talk about price?\n",
      "\n",
      "\n"
     ]
    }
   ],
   "source": [
    "\n",
    "for line in range(10):\n",
    "    split_position = KMP(text[0], key_quesion_does)\n",
    "    # id[line] = line\n",
    "    id_text.append(text[0][:split_position])\n",
    "    id_quesion.append(text[0][split_position:])\n",
    "\n",
    "    print(line)\n",
    "    print(id_text[line])\n",
    "    print(id_quesion[line])\n",
    "    print(\"\\n\")\n"
   ]
  },
  {
   "cell_type": "code",
   "execution_count": 132,
   "metadata": {},
   "outputs": [
    {
     "name": "stdout",
     "output_type": "stream",
     "text": [
      "\"Gold falls to Rs 30,800; silver down at Rs 41,200 per kg\" Now answer this question: Does the news headline talk about price in the past? Yes\n",
      "\n",
      "Headline: \"gold futures add to gains after adp data\" Now answer this question: Does the news headline talk about price? Yes\n",
      "\n",
      "Headline: \"Gold holds on to modest loss after data\" Now answer this question: Does the news headline talk about price in the future? No\n",
      "\n",
      "Headline: \"spot gold quoted at $417.50, down 20c from new york\" Now answer this question: Does the news headline talk about a general event (apart from prices) in the past? No\n",
      "\n",
      "Headline: \"gold hits new record high at $1,036.20 an ounce\" Now answer this question: Does the news headline compare gold with any other asset? No\n",
      "\n",
      "Headline: \"gold may hit rs 31,500, but pullback rally may not sustain for long: experts\" Now answer this question: Does the news headline talk about price?\n"
     ]
    }
   ],
   "source": [
    "print(text[0][headline_posion:])"
   ]
  },
  {
   "cell_type": "code",
   "execution_count": null,
   "metadata": {},
   "outputs": [],
   "source": [
    "# import re\n",
    "# for i in range(100):\n",
    "\n",
    "    # #拆分每个对话\n",
    "    # str = text[i]\n",
    "    # problem_pattern = r'\\n\\n'\n",
    "    # problem_group = re.split(problem_pattern, str)\n",
    "\n",
    "    # #拆分每个对话的内容和问题\n",
    "    # str = problem_group[0]\n",
    "    # problem_group_pattern = r'\\bDoes\\b'#    \"Does the\"\n",
    "    # problem_Does_group = re.split(problem_group_pattern, str)\n",
    "    # print(problem_Does_group[0])\n",
    "    # print(\"Does\" + problem_Does_group[1])\n",
    "    # print(\"\\n\")\n",
    "\n",
    "\n",
    "    # #提取对话内容部分\n",
    "    # str = problem_Does_group[0]\n",
    "    # problem_headline_pattern = r'eadline\\b'#find the \"headline:\" in the text\n",
    "    # problem_headline_group = re.split(problem_headline_pattern, str)\n",
    "    # print(problem_headline_group[-1])\n",
    "    # print(\"\\n\")\n",
    "\n",
    "    # #删除对话内容部分的“\n",
    "    # str = problem_headline_group[-1]\n",
    "    # problem_Btext_pattern = r'\\\"\\s'#find the \"headline:\" in the text\n",
    "    # problem_Btext_group = re.split(problem_Btext_pattern, str)\n",
    "    # # print(problem_Btext_group[0])\n",
    "    # # print(\"\\n\")\n",
    "\n",
    "    # #删除对话内容部分的：\n",
    "    # str = problem_Btext_group[0]\n",
    "    # problem_Ftext_pattern = r'\\:.\\\"'#find the \"headline:\" in the text\n",
    "    # problem_Ftext_group = re.split(problem_Ftext_pattern, str)\n",
    "    # print(problem_Ftext_group[-1])\n",
    "    # print(\"\\n\")\n",
    "\n",
    "\n",
    "    # #拆分出问题与答案\n",
    "    # str = problem_Does_group[1]\n",
    "    # problem_quesionMark_pattern = r'\\?'#the first ? in the question\n",
    "    # problem_quesionMark_group = re.split(problem_quesionMark_pattern, str)\n",
    "    # print(\"Does\" + problem_quesionMark_group[0])\n",
    "    # print(problem_quesionMark_group[-1])\n",
    "    # print(\"\\n\")"
   ]
  }
 ],
 "metadata": {
  "kernelspec": {
   "display_name": "pytorch",
   "language": "python",
   "name": "python3"
  },
  "language_info": {
   "codemirror_mode": {
    "name": "ipython",
    "version": 3
   },
   "file_extension": ".py",
   "mimetype": "text/x-python",
   "name": "python",
   "nbconvert_exporter": "python",
   "pygments_lexer": "ipython3",
   "version": "3.11.9"
  }
 },
 "nbformat": 4,
 "nbformat_minor": 2
}
