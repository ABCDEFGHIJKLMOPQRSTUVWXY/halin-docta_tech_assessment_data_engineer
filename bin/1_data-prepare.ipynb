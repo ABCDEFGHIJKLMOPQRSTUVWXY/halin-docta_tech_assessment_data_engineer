{
 "cells": [
  {
   "cell_type": "code",
   "execution_count": 33,
   "metadata": {},
   "outputs": [],
   "source": [
    "import datasets"
   ]
  },
  {
   "cell_type": "code",
   "execution_count": 34,
   "metadata": {},
   "outputs": [],
   "source": [
    "#download the Headline subset of the AdaptLLM/Finance-tasks dataset\n",
    "# dataset = datasets.load_dataset(\"AdaptLLM/finance-tasks\", \"Headline\")\n",
    "#save to disk\n",
    "# dataset.save_to_disk(\"../data/finance-tasks\")"
   ]
  },
  {
   "cell_type": "code",
   "execution_count": 35,
   "metadata": {},
   "outputs": [],
   "source": [
    "#load dataset from disk\n",
    "raw_data = datasets.load_from_disk(\"../data/finance-tasks\")\n",
    "raw_data"
   ]
  },
  {
   "cell_type": "code",
   "execution_count": 37,
   "metadata": {},
   "outputs": [
    {
     "name": "stderr",
     "output_type": "stream",
     "text": [
      "Loading cached shuffled indices for dataset at /Users/huaxingmo/Documents/GitHub/halin-docta_tech_assessment_data_engineer/data/finance-tasks/test/cache-07757770105163d1.arrow\n"
     ]
    }
   ],
   "source": [
    "Fdataset = raw_data[\"test\"]\n",
    "head_dataset = Fdataset.select(range(10))\n",
    "shuffle_dataset = Fdataset.shuffle(seed=42).select(range(10))\n",
    "Fdataset"
   ]
  },
  {
   "cell_type": "code",
   "execution_count": 39,
   "metadata": {},
   "outputs": [],
   "source": [
    "id_group = Fdataset['id']\n",
    "text = Fdataset['input']"
   ]
  },
  {
   "cell_type": "code",
   "execution_count": 40,
   "metadata": {},
   "outputs": [],
   "source": [
    "#kmp\n",
    "def getNextVal(pattern):\n",
    "    n = len(pattern)\n",
    "    nextlist = [-1]\n",
    "    i = 0\n",
    "    j = -1\n",
    "    while i < n-1:\n",
    "        if j == -1 or pattern[i] == pattern[j]:\n",
    "            i += 1\n",
    "            j += 1\n",
    "            nextlist.append(j)\n",
    "            if pattern[i] == pattern[j]:\n",
    "                nextlist[i] = nextlist[j]\n",
    "        else:\n",
    "            j = nextlist[j]\n",
    "    return nextlist\n",
    "\n",
    "def KMP(target, pattern):\n",
    "    t_len = len(target)\n",
    "    p_len = len(pattern)\n",
    "    i = 0\n",
    "    j = 0\n",
    "    nextlist = getNextVal(pattern)\n",
    "    while i < t_len and j < p_len:\n",
    "        if j == -1 or target[i] == pattern[j]:\n",
    "            i += 1\n",
    "            j += 1\n",
    "        else:\n",
    "            j = nextlist[j]\n",
    "    if j == p_len:\n",
    "        return i-p_len\n",
    "    return -1\n",
    "\n",
    "def Find_len(target, pattern):\n",
    "    text = target\n",
    "    key = pattern\n",
    "    pos = 0\n",
    "    amount = 0\n",
    "    \n",
    "    while pos < len(text):\n",
    "        k = KMP(text[pos:],key)\n",
    "        if k != -1:\n",
    "            amount += 1\n",
    "            pos = pos + k + len(key)\n",
    "        else:\n",
    "            break\n",
    "    return amount\n",
    "    \n",
    "    \n",
    "    "
   ]
  },
  {
   "cell_type": "code",
   "execution_count": 41,
   "metadata": {},
   "outputs": [],
   "source": [
    "#\\n\n",
    "key_text_space = \"\\n\\n\"\n",
    "\n",
    "#text\n",
    "key_text_headline = \"eadline: \"\n",
    "#quesion\n",
    "key_quesion_does = \"Does the\"\n",
    "key_quesion_first_mark = \"?\"\n",
    "#answer\n",
    "key_answer_1 = \"No or Yes? \"\n",
    "key_answer_2 = \"No\"\n",
    "key_answer_3 = \"Yes\"\n",
    "key_answer_4 = \"options\""
   ]
  },
  {
   "cell_type": "code",
   "execution_count": null,
   "metadata": {},
   "outputs": [],
   "source": [
    "id = []\n",
    "all_text = []\n",
    "all_quesion = []\n",
    "all_answer = []\n",
    "\n",
    "\n",
    "id_quesion = []\n",
    "id_answer = []\n",
    "for i in range(10):\n",
    "    id.append(i*6)\n",
    "    \n",
    "    id_all = []\n",
    "    main_group = text[i]\n",
    "    for line in range(6):\n",
    "        #用“\\n\\n”拆分每一段\n",
    "        split_text_space = KMP(main_group,key_text_space)\n",
    "        id_all.append(main_group[:split_text_space])\n",
    "        #滑动到下一句\n",
    "        main_group = main_group[split_text_space+1:]\n",
    "\n",
    "        spilit_text_question = KMP(id_all[line],key_quesion_does)\n",
    "        spilt_question_mark = KMP(id_all[line],key_quesion_first_mark)\n",
    "        id_quesion.append(id_all[line][spilit_text_question:spilt_question_mark+1])\n",
    "        id_answer.append(id_all[line][spilt_question_mark+1:])\n",
    "\n",
    "        \n",
    "\n",
    "        \n",
    "\n",
    "\n",
    "\n",
    "\n"
   ]
  },
  {
   "cell_type": "code",
   "execution_count": null,
   "metadata": {},
   "outputs": [],
   "source": [
    "# import re\n",
    "# for i in range(100):\n",
    "\n",
    "    # #拆分每个对话\n",
    "    # str = text[i]\n",
    "    # problem_pattern = r'\\n\\n'\n",
    "    # problem_group = re.split(problem_pattern, str)\n",
    "\n",
    "    # #拆分每个对话的内容和问题\n",
    "    # str = problem_group[0]\n",
    "    # problem_group_pattern = r'\\bDoes\\b'#    \"Does the\"\n",
    "    # problem_Does_group = re.split(problem_group_pattern, str)\n",
    "    # print(problem_Does_group[0])\n",
    "    # print(\"Does\" + problem_Does_group[1])\n",
    "    # print(\"\\n\")\n",
    "\n",
    "\n",
    "    # #提取对话内容部分\n",
    "    # str = problem_Does_group[0]\n",
    "    # problem_headline_pattern = r'eadline\\b'#find the \"headline:\" in the text\n",
    "    # problem_headline_group = re.split(problem_headline_pattern, str)\n",
    "    # print(problem_headline_group[-1])\n",
    "    # print(\"\\n\")\n",
    "\n",
    "    # #删除对话内容部分的“\n",
    "    # str = problem_headline_group[-1]\n",
    "    # problem_Btext_pattern = r'\\\"\\s'#find the \"headline:\" in the text\n",
    "    # problem_Btext_group = re.split(problem_Btext_pattern, str)\n",
    "    # # print(problem_Btext_group[0])\n",
    "    # # print(\"\\n\")\n",
    "\n",
    "    # #删除对话内容部分的：\n",
    "    # str = problem_Btext_group[0]\n",
    "    # problem_Ftext_pattern = r'\\:.\\\"'#find the \"headline:\" in the text\n",
    "    # problem_Ftext_group = re.split(problem_Ftext_pattern, str)\n",
    "    # print(problem_Ftext_group[-1])\n",
    "    # print(\"\\n\")\n",
    "\n",
    "\n",
    "    # #拆分出问题与答案\n",
    "    # str = problem_Does_group[1]\n",
    "    # problem_quesionMark_pattern = r'\\?'#the first ? in the question\n",
    "    # problem_quesionMark_group = re.split(problem_quesionMark_pattern, str)\n",
    "    # print(\"Does\" + problem_quesionMark_group[0])\n",
    "    # print(problem_quesionMark_group[-1])\n",
    "    # print(\"\\n\")"
   ]
  }
 ],
 "metadata": {
  "kernelspec": {
   "display_name": "pytorch",
   "language": "python",
   "name": "python3"
  },
  "language_info": {
   "codemirror_mode": {
    "name": "ipython",
    "version": 3
   },
   "file_extension": ".py",
   "mimetype": "text/x-python",
   "name": "python",
   "nbconvert_exporter": "python",
   "pygments_lexer": "ipython3",
   "version": "3.11.5"
  }
 },
 "nbformat": 4,
 "nbformat_minor": 2
}
